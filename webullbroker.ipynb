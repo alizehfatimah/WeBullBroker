{
 "cells": [
  {
   "cell_type": "code",
   "execution_count": 1,
   "metadata": {},
   "outputs": [],
   "source": [
    "import urllib3.request\n",
    "from bs4 import BeautifulSoup\n",
    "import json\n",
    "import pandas as pd\n",
    "urllib3.disable_warnings()\n",
    "\n",
    "##links\n",
    "url1 = 'https://quotes-gw.webullbroker.com/api/search/pc/tickers?keyword=evc&pageIndex=1&pageSize=20'\n",
    "url2 = 'https://quotes-gw.webullfintech.com/api/quotes/chip/query?tickerId=913255272&startDate=2020-09-01&endDate=2020-10-31'\n",
    "\n"
   ]
  },
  {
   "cell_type": "code",
   "execution_count": 2,
   "metadata": {},
   "outputs": [],
   "source": [
    "##real code starts here\n",
    "f = open(\"symbolsInput-2.txt\", 'r')\n",
    "symbols_list = f.read().split(\"\\n\")\n",
    "http = urllib3.PoolManager()\n",
    "tickerIDs = []\n",
    "symbol_tck = []\n",
    "\n",
    "for sl in symbols_list:\n",
    "    html = http.request('GET', 'https://quotes-gw.webullbroker.com/api/search/pc/tickers?keyword='+str(sl)+'&pageIndex=1&pageSize=20')\n",
    "    soup = BeautifulSoup(html.data, features=\"lxml\").find('p').get_text()\n",
    "    dt = json.loads(soup)\n",
    "    df = pd.DataFrame(dt['data'])\n",
    "    tickerIDs.append(list(df['tickerId']))"
   ]
  },
  {
   "cell_type": "code",
   "execution_count": 3,
   "metadata": {},
   "outputs": [],
   "source": [
    "df123 = pd.DataFrame({\"symbol\" : symbols_list, \"ti\" : tickerIDs})"
   ]
  },
  {
   "cell_type": "code",
   "execution_count": 4,
   "metadata": {},
   "outputs": [
    {
     "data": {
      "text/html": [
       "<div>\n",
       "<style scoped>\n",
       "    .dataframe tbody tr th:only-of-type {\n",
       "        vertical-align: middle;\n",
       "    }\n",
       "\n",
       "    .dataframe tbody tr th {\n",
       "        vertical-align: top;\n",
       "    }\n",
       "\n",
       "    .dataframe thead th {\n",
       "        text-align: right;\n",
       "    }\n",
       "</style>\n",
       "<table border=\"1\" class=\"dataframe\">\n",
       "  <thead>\n",
       "    <tr style=\"text-align: right;\">\n",
       "      <th></th>\n",
       "      <th>symbol</th>\n",
       "      <th>ti</th>\n",
       "    </tr>\n",
       "  </thead>\n",
       "  <tbody>\n",
       "    <tr>\n",
       "      <th>0</th>\n",
       "      <td>KGJI</td>\n",
       "      <td>[913253342]</td>\n",
       "    </tr>\n",
       "    <tr>\n",
       "      <th>1</th>\n",
       "      <td>TAT</td>\n",
       "      <td>[913303902, 913323551, 950102446, 925309751, 9...</td>\n",
       "    </tr>\n",
       "    <tr>\n",
       "      <th>2</th>\n",
       "      <td>OBLG</td>\n",
       "      <td>[913303685, 913317116, 925220949, 925274047, 9...</td>\n",
       "    </tr>\n",
       "    <tr>\n",
       "      <th>3</th>\n",
       "      <td>SNDE</td>\n",
       "      <td>[916040700]</td>\n",
       "    </tr>\n",
       "    <tr>\n",
       "      <th>4</th>\n",
       "      <td>SPI</td>\n",
       "      <td>[913256084, 925283514, 913255655, 913324358, 9...</td>\n",
       "    </tr>\n",
       "    <tr>\n",
       "      <th>5</th>\n",
       "      <td>NTEC</td>\n",
       "      <td>[916040768, 925287914, 925289346, 925289348, 9...</td>\n",
       "    </tr>\n",
       "    <tr>\n",
       "      <th>6</th>\n",
       "      <td>RWLK</td>\n",
       "      <td>[913255915]</td>\n",
       "    </tr>\n",
       "    <tr>\n",
       "      <th>7</th>\n",
       "      <td>GMO</td>\n",
       "      <td>[925163614, 913303810, 925302019, 950095874, 9...</td>\n",
       "    </tr>\n",
       "    <tr>\n",
       "      <th>8</th>\n",
       "      <td>HMHC</td>\n",
       "      <td>[913255799]</td>\n",
       "    </tr>\n",
       "    <tr>\n",
       "      <th>9</th>\n",
       "      <td>AMPY</td>\n",
       "      <td>[913435351, 950099255, 925339023]</td>\n",
       "    </tr>\n",
       "    <tr>\n",
       "      <th>10</th>\n",
       "      <td>PPSI</td>\n",
       "      <td>[913253449, 925197079, 925196937, 925197593, 9...</td>\n",
       "    </tr>\n",
       "    <tr>\n",
       "      <th>11</th>\n",
       "      <td>LONE</td>\n",
       "      <td>[913256112, 913324294, 925304424, 925282821]</td>\n",
       "    </tr>\n",
       "    <tr>\n",
       "      <th>12</th>\n",
       "      <td>GNPX</td>\n",
       "      <td>[950052394]</td>\n",
       "    </tr>\n",
       "    <tr>\n",
       "      <th>13</th>\n",
       "      <td>OGEN</td>\n",
       "      <td>[913303693]</td>\n",
       "    </tr>\n",
       "    <tr>\n",
       "      <th>14</th>\n",
       "      <td>HTZ</td>\n",
       "      <td>[913254830, 913322277, 913322244, 913246939, 9...</td>\n",
       "    </tr>\n",
       "    <tr>\n",
       "      <th>15</th>\n",
       "      <td>WTRH</td>\n",
       "      <td>[913323171]</td>\n",
       "    </tr>\n",
       "    <tr>\n",
       "      <th>16</th>\n",
       "      <td>OCN</td>\n",
       "      <td>[913324023, 925282954, 925337977]</td>\n",
       "    </tr>\n",
       "    <tr>\n",
       "      <th>17</th>\n",
       "      <td>CPST</td>\n",
       "      <td>[913253688]</td>\n",
       "    </tr>\n",
       "    <tr>\n",
       "      <th>18</th>\n",
       "      <td>XTNT</td>\n",
       "      <td>[913303742, 950175140]</td>\n",
       "    </tr>\n",
       "    <tr>\n",
       "      <th>19</th>\n",
       "      <td>BNGO</td>\n",
       "      <td>[950065193, 950175969]</td>\n",
       "    </tr>\n",
       "  </tbody>\n",
       "</table>\n",
       "</div>"
      ],
      "text/plain": [
       "   symbol                                                 ti\n",
       "0    KGJI                                        [913253342]\n",
       "1     TAT  [913303902, 913323551, 950102446, 925309751, 9...\n",
       "2    OBLG  [913303685, 913317116, 925220949, 925274047, 9...\n",
       "3    SNDE                                        [916040700]\n",
       "4     SPI  [913256084, 925283514, 913255655, 913324358, 9...\n",
       "5    NTEC  [916040768, 925287914, 925289346, 925289348, 9...\n",
       "6    RWLK                                        [913255915]\n",
       "7     GMO  [925163614, 913303810, 925302019, 950095874, 9...\n",
       "8    HMHC                                        [913255799]\n",
       "9    AMPY                  [913435351, 950099255, 925339023]\n",
       "10   PPSI  [913253449, 925197079, 925196937, 925197593, 9...\n",
       "11   LONE       [913256112, 913324294, 925304424, 925282821]\n",
       "12   GNPX                                        [950052394]\n",
       "13   OGEN                                        [913303693]\n",
       "14    HTZ  [913254830, 913322277, 913322244, 913246939, 9...\n",
       "15   WTRH                                        [913323171]\n",
       "16    OCN                  [913324023, 925282954, 925337977]\n",
       "17   CPST                                        [913253688]\n",
       "18   XTNT                             [913303742, 950175140]\n",
       "19   BNGO                             [950065193, 950175969]"
      ]
     },
     "execution_count": 4,
     "metadata": {},
     "output_type": "execute_result"
    }
   ],
   "source": [
    "df123"
   ]
  },
  {
   "cell_type": "code",
   "execution_count": 5,
   "metadata": {},
   "outputs": [],
   "source": [
    "df456 = df123.explode('ti')"
   ]
  },
  {
   "cell_type": "code",
   "execution_count": 6,
   "metadata": {},
   "outputs": [],
   "source": [
    "row = []\n",
    "\n",
    "for ticker in df456['ti']:\n",
    "    html = http.request('GET', 'https://quotes-gw.webullfintech.com/api/quotes/chip/query?tickerId='+str(ticker)+'&startDate=2020-09-01&endDate=2020-10-31')\n",
    "    soup = BeautifulSoup(html.data, features=\"lxml\").find('p').get_text()\n",
    "    dt2 = json.loads(soup)\n",
    "    df2 = pd.DataFrame(dt2['data'])\n",
    "    if not df2.empty:  \n",
    "        symb = df456[df456['ti'] == ticker]['symbol'].to_string().split()[1]\n",
    "        row.append({'symbol': symb, 'ticker': ticker, 'avgCost': df2['avgCost'], 'close': df2['close']})   "
   ]
  },
  {
   "cell_type": "code",
   "execution_count": 7,
   "metadata": {},
   "outputs": [],
   "source": [
    "newdf = pd.DataFrame(row)\n",
    "newdf_avgcost = newdf.drop(columns=[\"close\"]).explode('avgCost')\n",
    "newdf_close = newdf.drop(columns=[\"avgCost\"]).explode('close')"
   ]
  },
  {
   "cell_type": "code",
   "execution_count": 31,
   "metadata": {},
   "outputs": [],
   "source": [
    "newdf_avgcost = newdf_avgcost.combine_first(newdf_close)"
   ]
  },
  {
   "cell_type": "code",
   "execution_count": 50,
   "metadata": {},
   "outputs": [
    {
     "name": "stderr",
     "output_type": "stream",
     "text": [
      "<ipython-input-50-5ea99e7c89bf>:2: UserWarning: DataFrame columns are not unique, some columns will be omitted.\n",
      "  data = newdf_avgcost.transpose().to_dict('list')\n"
     ]
    }
   ],
   "source": [
    "unique_count = newdf_avgcost.value_counts('ticker').max()\n",
    "data = newdf_avgcost.transpose().to_dict('list')\n",
    "\n",
    "with open('test_file.csv', 'w', newline='') as f:\n",
    "    writer = csv.writer(f)\n",
    "    writer.writerow([\" \"])\n",
    "    writer.writerow([\"symbol\", \"tickerID\", (\" \", \"avgCost\", \"close\", \" \") * unique_count])\n",
    "    for key, value in data.items():\n",
    "        writer.writerow([\" \", key, value, \" \"])"
   ]
  },
  {
   "cell_type": "code",
   "execution_count": 36,
   "metadata": {},
   "outputs": [],
   "source": []
  },
  {
   "cell_type": "code",
   "execution_count": 46,
   "metadata": {},
   "outputs": [],
   "source": []
  }
 ],
 "metadata": {
  "kernelspec": {
   "display_name": "Python 3",
   "language": "python",
   "name": "python3"
  },
  "language_info": {
   "codemirror_mode": {
    "name": "ipython",
    "version": 3
   },
   "file_extension": ".py",
   "mimetype": "text/x-python",
   "name": "python",
   "nbconvert_exporter": "python",
   "pygments_lexer": "ipython3",
   "version": "3.8.5"
  }
 },
 "nbformat": 4,
 "nbformat_minor": 2
}
